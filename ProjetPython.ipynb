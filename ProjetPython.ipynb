{
 "cells": [
  {
   "cell_type": "markdown",
   "metadata": {},
   "source": [
    "# Chargement du jeu de données"
   ]
  },
  {
   "cell_type": "markdown",
   "metadata": {},
   "source": [
    "Ce papier utilise les données issues de <a href = \"https://www.emploi-store-dev.fr/portail-developpeur-cms/home/catalogue-des-api/documentation-des-api/api/api-offres-demploi-v2.html\">l'API Offres Emploi V2 </a> disponible sur le "
   ]
  },
  {
   "cell_type": "code",
   "execution_count": 1,
   "metadata": {},
   "outputs": [],
   "source": [
    "from offres_emploi import Api"
   ]
  },
  {
   "cell_type": "code",
   "execution_count": 2,
   "metadata": {},
   "outputs": [],
   "source": [
    "client = Api(client_id=\"PAR_projetpythonensaeparis_fa0da8af27775fc0f909f013e943743fa1efdc9fd866d9ff0b032e31889cdde0\", \n",
    "             client_secret=\"2e3a71554180da56e6495f5fa5e8d1fd3ac3bd522d5538dd5c993993b29594c0\")"
   ]
  },
  {
   "cell_type": "code",
   "execution_count": 4,
   "metadata": {},
   "outputs": [
    {
     "data": {
      "text/plain": [
       "<offres_emploi.api.Api at 0x539eee0>"
      ]
     },
     "execution_count": 4,
     "metadata": {},
     "output_type": "execute_result"
    }
   ],
   "source": [
    "client"
   ]
  },
  {
   "cell_type": "code",
   "execution_count": 5,
   "metadata": {},
   "outputs": [
    {
     "name": "stdout",
     "output_type": "stream",
     "text": [
      "Making request with params None\n",
      "Token has not been requested yet. Requesting token\n",
      "Now requesting token\n"
     ]
    }
   ],
   "source": [
    "basic_search = client.search()"
   ]
  },
  {
   "cell_type": "code",
   "execution_count": 6,
   "metadata": {
    "scrolled": true
   },
   "outputs": [
    {
     "data": {
      "text/plain": [
       "{'first_index': '0', 'last_index': '149', 'max_results': '219978'}"
      ]
     },
     "execution_count": 6,
     "metadata": {},
     "output_type": "execute_result"
    }
   ],
   "source": [
    "basic_search[\"Content-Range\"]"
   ]
  },
  {
   "cell_type": "code",
   "execution_count": null,
   "metadata": {},
   "outputs": [],
   "source": []
  },
  {
   "cell_type": "code",
   "execution_count": 97,
   "metadata": {},
   "outputs": [
    {
     "name": "stdout",
     "output_type": "stream",
     "text": [
      "Making request with params {'range': '150-299', 'periodeSalaire': 'M', 'minCreationDate': '2019-06-01T00:00:00Z', 'maxCreationDate': '2020-12-01T00:00:00Z'}\n"
     ]
    }
   ],
   "source": [
    "from offres_emploi.utils import dt_to_str_iso\n",
    "import datetime\n",
    "\n",
    "start_dt = datetime.datetime(2019, 6, 1)\n",
    "end_dt = datetime.datetime(2020, 12, 1)\n",
    "params = {\n",
    "     'range' : '150-299',\n",
    "    'periodeSalaire' : 'M',\n",
    "    'minCreationDate': dt_to_str_iso(start_dt),\n",
    "    'maxCreationDate': dt_to_str_iso(end_dt)\n",
    "}\n",
    "search_covid = client.search(params=params)"
   ]
  },
  {
   "cell_type": "code",
   "execution_count": 91,
   "metadata": {},
   "outputs": [
    {
     "data": {
      "text/plain": [
       "{'first_index': '50', 'last_index': '99', 'max_results': '155388'}"
      ]
     },
     "execution_count": 91,
     "metadata": {},
     "output_type": "execute_result"
    }
   ],
   "source": [
    "filters = search_covid['filtresPossibles']\n",
    "results =  search_covid['resultats']\n",
    "content_range = search_covid['Content-Range']\n",
    "content_range"
   ]
  },
  {
   "cell_type": "code",
   "execution_count": 39,
   "metadata": {},
   "outputs": [],
   "source": [
    "from offres_emploi.utils import filters_to_df\n",
    "filters_df = filters_to_df(filters)"
   ]
  },
  {
   "cell_type": "code",
   "execution_count": 40,
   "metadata": {},
   "outputs": [
    {
     "data": {
      "text/plain": [
       "<AxesSubplot:xlabel='nb_resultats', ylabel='valeur_possible'>"
      ]
     },
     "execution_count": 40,
     "metadata": {},
     "output_type": "execute_result"
    },
    {
     "data": {
      "image/png": "[encoded data removed]",
      "text/plain": [
       "<Figure size 432x288 with 1 Axes>"
      ]
     },
     "metadata": {
      "needs_background": "light"
     },
     "output_type": "display_data"
    }
   ],
   "source": [
    "import seaborn as sns\n",
    "sns.barplot(data=filters_df, y=\"valeur_possible\", x=\"nb_resultats\")"
   ]
  },
  {
   "cell_type": "code",
   "execution_count": 75,
   "metadata": {},
   "outputs": [],
   "source": [
    "import pandas as pd\n",
    "results_df = pd.DataFrame(results)\n",
    "salary_by_enterprise = (\n",
    " results_df[['entreprise', 'salaire']]\n",
    " .dropna()\n",
    " .agg(dict(entreprise=lambda x: x.get('nom'),\n",
    "           salaire=lambda x: x.get('commentaire')))\n",
    " .dropna(subset=[\"salaire\"])\n",
    " .loc[lambda df: df.salaire.str.contains(\"\\d+\")]\n",
    " .sort_values(\"salaire\")\n",
    ")"
   ]
  },
  {
   "cell_type": "code",
   "execution_count": 77,
   "metadata": {
    "scrolled": true
   },
   "outputs": [
    {
     "data": {
      "text/html": [
       "<div>\n",
       "<style scoped>\n",
       "    .dataframe tbody tr th:only-of-type {\n",
       "        vertical-align: middle;\n",
       "    }\n",
       "\n",
       "    .dataframe tbody tr th {\n",
       "        vertical-align: top;\n",
       "    }\n",
       "\n",
       "    .dataframe thead th {\n",
       "        text-align: right;\n",
       "    }\n",
       "</style>\n",
       "<table border=\"1\" class=\"dataframe\">\n",
       "  <thead>\n",
       "    <tr style=\"text-align: right;\">\n",
       "      <th></th>\n",
       "      <th>entreprise</th>\n",
       "      <th>salaire</th>\n",
       "    </tr>\n",
       "  </thead>\n",
       "  <tbody>\n",
       "    <tr>\n",
       "      <th>0</th>\n",
       "      <td>{'description': 'La 3WRH accompagne les profil...</td>\n",
       "      <td>{'libelle': 'Mensuel de 600,00 Euros à 900,00 ...</td>\n",
       "    </tr>\n",
       "    <tr>\n",
       "      <th>1</th>\n",
       "      <td>{'description': 'La 3WRH accompagne les profil...</td>\n",
       "      <td>{'libelle': 'Mensuel de 600,00 Euros à 900,00 ...</td>\n",
       "    </tr>\n",
       "    <tr>\n",
       "      <th>2</th>\n",
       "      <td>{'nom': 'ELFY PROPRETE'}</td>\n",
       "      <td>{'libelle': 'Horaire de 10,30 Euros à 10,30 Eu...</td>\n",
       "    </tr>\n",
       "    <tr>\n",
       "      <th>3</th>\n",
       "      <td>{'description': 'La 3WRH accompagne les profil...</td>\n",
       "      <td>{'libelle': 'Mensuel de 600,00 Euros à 900,00 ...</td>\n",
       "    </tr>\n",
       "    <tr>\n",
       "      <th>4</th>\n",
       "      <td>{'nom': 'DOCTEUR EN CHIRURGIE DENTAIRE'}</td>\n",
       "      <td>{'libelle': 'Mensuel de 662,00 Euros à 1539,42...</td>\n",
       "    </tr>\n",
       "    <tr>\n",
       "      <th>...</th>\n",
       "      <td>...</td>\n",
       "      <td>...</td>\n",
       "    </tr>\n",
       "    <tr>\n",
       "      <th>145</th>\n",
       "      <td>{'description': 'Soins de Suite  - Réadaptati...</td>\n",
       "      <td>NaN</td>\n",
       "    </tr>\n",
       "    <tr>\n",
       "      <th>146</th>\n",
       "      <td>{'nom': 'NOVOTEL'}</td>\n",
       "      <td>{'libelle': 'Mensuel de 1600,00 Euros à 1800,0...</td>\n",
       "    </tr>\n",
       "    <tr>\n",
       "      <th>147</th>\n",
       "      <td>NaN</td>\n",
       "      <td>NaN</td>\n",
       "    </tr>\n",
       "    <tr>\n",
       "      <th>148</th>\n",
       "      <td>{'description': 'Entreprise d'animation commer...</td>\n",
       "      <td>{'commentaire': '90 /JOUR', 'complement1': '90...</td>\n",
       "    </tr>\n",
       "    <tr>\n",
       "      <th>149</th>\n",
       "      <td>{'nom': 'Aquila Rh'}</td>\n",
       "      <td>NaN</td>\n",
       "    </tr>\n",
       "  </tbody>\n",
       "</table>\n",
       "<p>150 rows × 2 columns</p>\n",
       "</div>"
      ],
      "text/plain": [
       "                                            entreprise  \\\n",
       "0    {'description': 'La 3WRH accompagne les profil...   \n",
       "1    {'description': 'La 3WRH accompagne les profil...   \n",
       "2                             {'nom': 'ELFY PROPRETE'}   \n",
       "3    {'description': 'La 3WRH accompagne les profil...   \n",
       "4             {'nom': 'DOCTEUR EN CHIRURGIE DENTAIRE'}   \n",
       "..                                                 ...   \n",
       "145  {'description': 'Soins de Suite  - Réadaptati...   \n",
       "146                                 {'nom': 'NOVOTEL'}   \n",
       "147                                                NaN   \n",
       "148  {'description': 'Entreprise d'animation commer...   \n",
       "149                               {'nom': 'Aquila Rh'}   \n",
       "\n",
       "                                               salaire  \n",
       "0    {'libelle': 'Mensuel de 600,00 Euros à 900,00 ...  \n",
       "1    {'libelle': 'Mensuel de 600,00 Euros à 900,00 ...  \n",
       "2    {'libelle': 'Horaire de 10,30 Euros à 10,30 Eu...  \n",
       "3    {'libelle': 'Mensuel de 600,00 Euros à 900,00 ...  \n",
       "4    {'libelle': 'Mensuel de 662,00 Euros à 1539,42...  \n",
       "..                                                 ...  \n",
       "145                                                NaN  \n",
       "146  {'libelle': 'Mensuel de 1600,00 Euros à 1800,0...  \n",
       "147                                                NaN  \n",
       "148  {'commentaire': '90 /JOUR', 'complement1': '90...  \n",
       "149                                                NaN  \n",
       "\n",
       "[150 rows x 2 columns]"
      ]
     },
     "execution_count": 77,
     "metadata": {},
     "output_type": "execute_result"
    }
   ],
   "source": [
    "df=results_df [['entreprise', 'salaire']]\n",
    "df"
   ]
  },
  {
   "cell_type": "code",
   "execution_count": 76,
   "metadata": {},
   "outputs": [
    {
     "name": "stdout",
     "output_type": "stream",
     "text": [
      "                        entreprise  \\\n",
      "139                 NAVILAND CARGO   \n",
      "96               Al Conseiljob/kip   \n",
      "32             CMA HAUTS-DE-FRANCE   \n",
      "51             HIOLLE TECHNOLOGIES   \n",
      "64                        RANDSTAD   \n",
      "..                             ...   \n",
      "0                             3WRH   \n",
      "4    DOCTEUR EN CHIRURGIE DENTAIRE   \n",
      "9                             3WRH   \n",
      "6                             3WRH   \n",
      "47                           EATEC   \n",
      "\n",
      "                                               salaire  \n",
      "139  Annuel de 20800,00 Euros à 21000,00 Euros sur ...  \n",
      "96         Annuel de 25000,00 Euros ï¿¿ 30000,00 Euros  \n",
      "32   Annuel de 29000,00 Euros à 34000,00 Euros sur ...  \n",
      "51   Annuel de 30000,00 Euros à 37000,00 Euros sur ...  \n",
      "64                Annuel de 38000,00 Euros sur 12 mois  \n",
      "..                                                 ...  \n",
      "0    Mensuel de 600,00 Euros à 900,00 Euros sur 12 ...  \n",
      "4    Mensuel de 662,00 Euros à 1539,42 Euros sur 12...  \n",
      "9         Mensuel de 800 Euros à 900 Euros sur 12 mois  \n",
      "6         Mensuel de 800 Euros à 900 Euros sur 12 mois  \n",
      "47   Mensuel de 800,00 Euros à 1400,00 Euros sur 12...  \n",
      "\n",
      "[76 rows x 2 columns]\n"
     ]
    }
   ],
   "source": [
    "print(salary_by_enterprise)"
   ]
  },
  {
   "cell_type": "code",
   "execution_count": 71,
   "metadata": {},
   "outputs": [
    {
     "data": {
      "text/plain": [
       "dict_values(['Mensuel de 600,00 Euros à 900,00 Euros sur 12 mois'])"
      ]
     },
     "execution_count": 71,
     "metadata": {},
     "output_type": "execute_result"
    }
   ],
   "source": [
    "df ['salaire'][0].values()"
   ]
  },
  {
   "cell_type": "code",
   "execution_count": 79,
   "metadata": {},
   "outputs": [],
   "source": [
    "df=results_df [['id', 'intitule', 'description','dateCreation','typeContrat','experienceExige','salaire','nombrePostes','qualificationCode','secteurActivite','secteurActiviteLibelle']]\n"
   ]
  },
  {
   "cell_type": "code",
   "execution_count": 80,
   "metadata": {},
   "outputs": [
    {
     "data": {
      "text/html": [
       "<div>\n",
       "<style scoped>\n",
       "    .dataframe tbody tr th:only-of-type {\n",
       "        vertical-align: middle;\n",
       "    }\n",
       "\n",
       "    .dataframe tbody tr th {\n",
       "        vertical-align: top;\n",
       "    }\n",
       "\n",
       "    .dataframe thead th {\n",
       "        text-align: right;\n",
       "    }\n",
       "</style>\n",
       "<table border=\"1\" class=\"dataframe\">\n",
       "  <thead>\n",
       "    <tr style=\"text-align: right;\">\n",
       "      <th></th>\n",
       "      <th>id</th>\n",
       "      <th>intitule</th>\n",
       "      <th>description</th>\n",
       "      <th>dateCreation</th>\n",
       "      <th>typeContrat</th>\n",
       "      <th>experienceExige</th>\n",
       "      <th>salaire</th>\n",
       "      <th>nombrePostes</th>\n",
       "      <th>qualificationCode</th>\n",
       "      <th>secteurActivite</th>\n",
       "      <th>secteurActiviteLibelle</th>\n",
       "    </tr>\n",
       "  </thead>\n",
       "  <tbody>\n",
       "    <tr>\n",
       "      <th>0</th>\n",
       "      <td>107YRMN</td>\n",
       "      <td>Pré-apprentissage - Développeur Web Junior    ...</td>\n",
       "      <td>Cet automne, le Concours qui casse les Codes e...</td>\n",
       "      <td>2020-11-30T23:59:06+01:00</td>\n",
       "      <td>CDI</td>\n",
       "      <td>D</td>\n",
       "      <td>{'libelle': 'Mensuel de 600,00 Euros à 900,00 ...</td>\n",
       "      <td>1</td>\n",
       "      <td>5</td>\n",
       "      <td>62</td>\n",
       "      <td>Conseil en systèmes et logiciels informatiques</td>\n",
       "    </tr>\n",
       "    <tr>\n",
       "      <th>1</th>\n",
       "      <td>107YRMM</td>\n",
       "      <td>Pré-apprentissage - Développeur Web Junior    ...</td>\n",
       "      <td>Cet automne, le Concours qui casse les Codes e...</td>\n",
       "      <td>2020-11-30T23:56:06+01:00</td>\n",
       "      <td>CDI</td>\n",
       "      <td>D</td>\n",
       "      <td>{'libelle': 'Mensuel de 600,00 Euros à 900,00 ...</td>\n",
       "      <td>1</td>\n",
       "      <td>5</td>\n",
       "      <td>62</td>\n",
       "      <td>Conseil en systèmes et logiciels informatiques</td>\n",
       "    </tr>\n",
       "    <tr>\n",
       "      <th>2</th>\n",
       "      <td>107YRML</td>\n",
       "      <td>Agent / Agente de nettoyage industriel     (H/F)</td>\n",
       "      <td>Pour du nettoyage de bureaux, nous recherchons...</td>\n",
       "      <td>2020-11-30T23:54:55+01:00</td>\n",
       "      <td>CDI</td>\n",
       "      <td>D</td>\n",
       "      <td>{'libelle': 'Horaire de 10,30 Euros à 10,30 Eu...</td>\n",
       "      <td>1</td>\n",
       "      <td>1</td>\n",
       "      <td>81</td>\n",
       "      <td>Nettoyage courant des bâtiments</td>\n",
       "    </tr>\n",
       "    <tr>\n",
       "      <th>3</th>\n",
       "      <td>107YRMK</td>\n",
       "      <td>Pré-apprentissage - Développeur Web Junior   (...</td>\n",
       "      <td>Cet automne, le Concours qui casse les Codes e...</td>\n",
       "      <td>2020-11-30T23:54:07+01:00</td>\n",
       "      <td>CDI</td>\n",
       "      <td>D</td>\n",
       "      <td>{'libelle': 'Mensuel de 600,00 Euros à 900,00 ...</td>\n",
       "      <td>1</td>\n",
       "      <td>5</td>\n",
       "      <td>62</td>\n",
       "      <td>Conseil en systèmes et logiciels informatiques</td>\n",
       "    </tr>\n",
       "    <tr>\n",
       "      <th>4</th>\n",
       "      <td>107YRMB</td>\n",
       "      <td>Assistant / Assistante dentaire (H/F)</td>\n",
       "      <td>Cabinet Dentaire d'omnipratique à Ligny-en-Bar...</td>\n",
       "      <td>2020-11-30T23:42:25+01:00</td>\n",
       "      <td>CDD</td>\n",
       "      <td>D</td>\n",
       "      <td>{'libelle': 'Mensuel de 662,00 Euros à 1539,42...</td>\n",
       "      <td>1</td>\n",
       "      <td>5</td>\n",
       "      <td>86</td>\n",
       "      <td>Pratique dentaire</td>\n",
       "    </tr>\n",
       "    <tr>\n",
       "      <th>...</th>\n",
       "      <td>...</td>\n",
       "      <td>...</td>\n",
       "      <td>...</td>\n",
       "      <td>...</td>\n",
       "      <td>...</td>\n",
       "      <td>...</td>\n",
       "      <td>...</td>\n",
       "      <td>...</td>\n",
       "      <td>...</td>\n",
       "      <td>...</td>\n",
       "      <td>...</td>\n",
       "    </tr>\n",
       "    <tr>\n",
       "      <th>145</th>\n",
       "      <td>7926200</td>\n",
       "      <td>Conseiller / Conseillère en insertion profess...</td>\n",
       "      <td>Le Centre Médical et Pédagogique Jacques Arna...</td>\n",
       "      <td>2020-11-30T19:47:32+01:00</td>\n",
       "      <td>CDI</td>\n",
       "      <td>E</td>\n",
       "      <td>NaN</td>\n",
       "      <td>1</td>\n",
       "      <td>X</td>\n",
       "      <td>NaN</td>\n",
       "      <td>NaN</td>\n",
       "    </tr>\n",
       "    <tr>\n",
       "      <th>146</th>\n",
       "      <td>107YRDF</td>\n",
       "      <td>Réceptionniste en hôtellerie (H/F)</td>\n",
       "      <td>La première impression est toujours la bonne! ...</td>\n",
       "      <td>2020-11-30T19:46:25+01:00</td>\n",
       "      <td>CDI</td>\n",
       "      <td>E</td>\n",
       "      <td>{'libelle': 'Mensuel de 1600,00 Euros à 1800,0...</td>\n",
       "      <td>1</td>\n",
       "      <td>5</td>\n",
       "      <td>55</td>\n",
       "      <td>Hôtels et hébergement similaire</td>\n",
       "    </tr>\n",
       "    <tr>\n",
       "      <th>147</th>\n",
       "      <td>7925849</td>\n",
       "      <td>Educateur spécialisé / Educatrice spécialisée...</td>\n",
       "      <td>L'association AIMCP Loire recrute  pour le CD...</td>\n",
       "      <td>2020-11-30T19:46:09+01:00</td>\n",
       "      <td>CDI</td>\n",
       "      <td>E</td>\n",
       "      <td>NaN</td>\n",
       "      <td>1</td>\n",
       "      <td>X</td>\n",
       "      <td>NaN</td>\n",
       "      <td>NaN</td>\n",
       "    </tr>\n",
       "    <tr>\n",
       "      <th>148</th>\n",
       "      <td>107YRDD</td>\n",
       "      <td>Animateur / Animatrice de ventemateur / Animat...</td>\n",
       "      <td>Recherche animateur/animatrice en stand foie g...</td>\n",
       "      <td>2020-11-30T19:46:07+01:00</td>\n",
       "      <td>CDD</td>\n",
       "      <td>E</td>\n",
       "      <td>{'commentaire': '90 /JOUR', 'complement1': '90...</td>\n",
       "      <td>1</td>\n",
       "      <td>6</td>\n",
       "      <td>73</td>\n",
       "      <td>Activités des agences de publicité</td>\n",
       "    </tr>\n",
       "    <tr>\n",
       "      <th>149</th>\n",
       "      <td>7925679</td>\n",
       "      <td>Opérateur de tri métaux H/F Caces 3</td>\n",
       "      <td>Aquila RH Besançon, acteur du recrutement en I...</td>\n",
       "      <td>2020-11-30T19:45:25+01:00</td>\n",
       "      <td>MIS</td>\n",
       "      <td>E</td>\n",
       "      <td>NaN</td>\n",
       "      <td>1</td>\n",
       "      <td>X</td>\n",
       "      <td>78</td>\n",
       "      <td>Activités des agences de travail temporaire</td>\n",
       "    </tr>\n",
       "  </tbody>\n",
       "</table>\n",
       "<p>150 rows × 11 columns</p>\n",
       "</div>"
      ],
      "text/plain": [
       "          id                                           intitule  \\\n",
       "0    107YRMN  Pré-apprentissage - Développeur Web Junior    ...   \n",
       "1    107YRMM  Pré-apprentissage - Développeur Web Junior    ...   \n",
       "2    107YRML   Agent / Agente de nettoyage industriel     (H/F)   \n",
       "3    107YRMK  Pré-apprentissage - Développeur Web Junior   (...   \n",
       "4    107YRMB              Assistant / Assistante dentaire (H/F)   \n",
       "..       ...                                                ...   \n",
       "145  7926200  Conseiller / Conseillère en insertion profess...   \n",
       "146  107YRDF                 Réceptionniste en hôtellerie (H/F)   \n",
       "147  7925849  Educateur spécialisé / Educatrice spécialisée...   \n",
       "148  107YRDD  Animateur / Animatrice de ventemateur / Animat...   \n",
       "149  7925679                Opérateur de tri métaux H/F Caces 3   \n",
       "\n",
       "                                           description  \\\n",
       "0    Cet automne, le Concours qui casse les Codes e...   \n",
       "1    Cet automne, le Concours qui casse les Codes e...   \n",
       "2    Pour du nettoyage de bureaux, nous recherchons...   \n",
       "3    Cet automne, le Concours qui casse les Codes e...   \n",
       "4    Cabinet Dentaire d'omnipratique à Ligny-en-Bar...   \n",
       "..                                                 ...   \n",
       "145  Le Centre Médical et Pédagogique Jacques Arna...   \n",
       "146  La première impression est toujours la bonne! ...   \n",
       "147  L'association AIMCP Loire recrute  pour le CD...   \n",
       "148  Recherche animateur/animatrice en stand foie g...   \n",
       "149  Aquila RH Besançon, acteur du recrutement en I...   \n",
       "\n",
       "                  dateCreation typeContrat experienceExige  \\\n",
       "0    2020-11-30T23:59:06+01:00         CDI               D   \n",
       "1    2020-11-30T23:56:06+01:00         CDI               D   \n",
       "2    2020-11-30T23:54:55+01:00         CDI               D   \n",
       "3    2020-11-30T23:54:07+01:00         CDI               D   \n",
       "4    2020-11-30T23:42:25+01:00         CDD               D   \n",
       "..                         ...         ...             ...   \n",
       "145  2020-11-30T19:47:32+01:00         CDI               E   \n",
       "146  2020-11-30T19:46:25+01:00         CDI               E   \n",
       "147  2020-11-30T19:46:09+01:00         CDI               E   \n",
       "148  2020-11-30T19:46:07+01:00         CDD               E   \n",
       "149  2020-11-30T19:45:25+01:00         MIS               E   \n",
       "\n",
       "                                               salaire  nombrePostes  \\\n",
       "0    {'libelle': 'Mensuel de 600,00 Euros à 900,00 ...             1   \n",
       "1    {'libelle': 'Mensuel de 600,00 Euros à 900,00 ...             1   \n",
       "2    {'libelle': 'Horaire de 10,30 Euros à 10,30 Eu...             1   \n",
       "3    {'libelle': 'Mensuel de 600,00 Euros à 900,00 ...             1   \n",
       "4    {'libelle': 'Mensuel de 662,00 Euros à 1539,42...             1   \n",
       "..                                                 ...           ...   \n",
       "145                                                NaN             1   \n",
       "146  {'libelle': 'Mensuel de 1600,00 Euros à 1800,0...             1   \n",
       "147                                                NaN             1   \n",
       "148  {'commentaire': '90 /JOUR', 'complement1': '90...             1   \n",
       "149                                                NaN             1   \n",
       "\n",
       "    qualificationCode secteurActivite  \\\n",
       "0                   5              62   \n",
       "1                   5              62   \n",
       "2                   1              81   \n",
       "3                   5              62   \n",
       "4                   5              86   \n",
       "..                ...             ...   \n",
       "145                 X             NaN   \n",
       "146                 5              55   \n",
       "147                 X             NaN   \n",
       "148                 6              73   \n",
       "149                 X              78   \n",
       "\n",
       "                             secteurActiviteLibelle  \n",
       "0    Conseil en systèmes et logiciels informatiques  \n",
       "1    Conseil en systèmes et logiciels informatiques  \n",
       "2                   Nettoyage courant des bâtiments  \n",
       "3    Conseil en systèmes et logiciels informatiques  \n",
       "4                                 Pratique dentaire  \n",
       "..                                              ...  \n",
       "145                                             NaN  \n",
       "146                 Hôtels et hébergement similaire  \n",
       "147                                             NaN  \n",
       "148              Activités des agences de publicité  \n",
       "149     Activités des agences de travail temporaire  \n",
       "\n",
       "[150 rows x 11 columns]"
      ]
     },
     "execution_count": 80,
     "metadata": {},
     "output_type": "execute_result"
    }
   ],
   "source": [
    "df"
   ]
  },
  {
   "cell_type": "code",
   "execution_count": null,
   "metadata": {},
   "outputs": [],
   "source": []
  }
 ],
 "metadata": {
  "kernelspec": {
   "display_name": "Python 3",
   "language": "python",
   "name": "python3"
  },
  "language_info": {
   "codemirror_mode": {
    "name": "ipython",
    "version": 3
   },
   "file_extension": ".py",
   "mimetype": "text/x-python",
   "name": "python",
   "nbconvert_exporter": "python",
   "pygments_lexer": "ipython3",
   "version": "3.8.5"
  }
 },
 "nbformat": 4,
 "nbformat_minor": 4
}
